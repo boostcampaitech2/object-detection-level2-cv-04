{
 "cells": [
  {
   "cell_type": "code",
   "execution_count": 1,
   "source": [
    "import os\n",
    "import json\n",
    "import numpy as np\n",
    "import pandas as pd\n",
    "import shutil"
   ],
   "outputs": [],
   "metadata": {}
  },
  {
   "cell_type": "code",
   "execution_count": 2,
   "source": [
    "all_json = \"/opt/ml/detectron_pipeline/dataset/train.json\""
   ],
   "outputs": [],
   "metadata": {}
  },
  {
   "cell_type": "code",
   "execution_count": 3,
   "source": [
    "with open(all_json, \"r\", encoding=\"utf8\") as outfile:\n",
    "    json_data = json.load(outfile)\n",
    "\n",
    "images = json_data[\"images\"]\n",
    "categories = json_data[\"categories\"]\n",
    "annotations = json_data[\"annotations\"]"
   ],
   "outputs": [],
   "metadata": {}
  },
  {
   "cell_type": "code",
   "execution_count": 4,
   "source": [
    "for annotation in annotations:\n",
    "    image_id = annotation[\"image_id\"]\n",
    "    category_id = annotation[\"category_id\"]\n",
    "    bbox = annotation[\"bbox\"]\n",
    "\n",
    "    if 'bbox' in images[image_id]:\n",
    "        images[image_id]['bbox'].append(bbox)\n",
    "        images[image_id]['bbox_category'].append(category_id)\n",
    "    else:\n",
    "        images[image_id]['bbox'] = [bbox]\n",
    "        images[image_id]['bbox_category'] = [category_id]"
   ],
   "outputs": [],
   "metadata": {}
  },
  {
   "cell_type": "code",
   "execution_count": 5,
   "source": [
    "# x, y, w, h, to x_centor, y_centor, w, h(normalized)\n",
    "def convert(box):\n",
    "    dw = 1./1024\n",
    "    dh = 1./1024\n",
    "    x, y, w, h = box\n",
    "    x_c = (x + x + w) / 2.0\n",
    "    y_c = (y + y + h) / 2.0\n",
    "    x = x_c*dw\n",
    "    w = w*dw\n",
    "    y = y_c*dh\n",
    "    h = h*dh\n",
    "    return (x, y, w, h)"
   ],
   "outputs": [],
   "metadata": {}
  },
  {
   "cell_type": "code",
   "execution_count": 6,
   "source": [
    "# image 파일 복사 & image 라벨 txt 만들기\n",
    "def make_yolo_dataset(json_dir, image_dir, label_dir):\n",
    "    with open(json_dir, \"r\", encoding=\"utf8\") as outfile:\n",
    "        json_data = json.load(outfile)\n",
    "    yolo_images = json_data[\"images\"]\n",
    "\n",
    "    for yolo_image in yolo_images:\n",
    "        id = yolo_image['id']\n",
    "        img = images[id]\n",
    "        string = ''\n",
    "        for bbox, cate in zip(img['bbox'], img['bbox_category']):\n",
    "            x, y, w, h = convert(bbox)\n",
    "            string += f\"{cate} {x} {y} {w} {h}\\n\"\n",
    "\n",
    "        with open(os.path.join(label_dir,f\"{img['id']:04}.txt\"), 'w') as f:\n",
    "            f.write(string.strip())\n",
    "    \n",
    "        shutil.copyfile(f\"/opt/ml/detectron_pipeline/dataset/{img['file_name']}\", os.path.join(image_dir,f\"{img['id']:04}.jpg\"))"
   ],
   "outputs": [],
   "metadata": {}
  },
  {
   "cell_type": "code",
   "execution_count": 7,
   "source": [
    "# make_directory\n",
    "def make_directory(paths):\n",
    "    for path in paths:\n",
    "        os.makedirs(path, exist_ok=True)"
   ],
   "outputs": [],
   "metadata": {}
  },
  {
   "cell_type": "code",
   "execution_count": 9,
   "source": [
    "# 경로 변경해서 실행\n",
    "train_json = \"/opt/ml/detectron_pipeline/dataset/train_0.json\"\n",
    "train_image_path = '/opt/ml/detectron_pipeline/yolov5/data/images/train'\n",
    "train_label_path = '/opt/ml/detectron_pipeline/yolov5/data/labels/train'\n",
    "train_path = [train_image_path, train_label_path]\n",
    "\n",
    "make_directory(train_path)\n",
    "make_yolo_dataset(train_json, *train_path)"
   ],
   "outputs": [],
   "metadata": {}
  },
  {
   "cell_type": "code",
   "execution_count": 24,
   "source": [
    "# 경로 변경해서 실행\n",
    "valid_json = \"/opt/ml/detectron_pipeline/dataset/valid_0.json\"\n",
    "valid_image_path = '/opt/ml/detectron_pipeline/yolov5/data/images/valid'\n",
    "valid_label_path = '/opt/ml/detectron_pipeline/yolov5/data/labels/valid'\n",
    "valid_path = [valid_image_path, valid_label_path]\n",
    "\n",
    "make_directory(valid_path)\n",
    "make_yolo_dataset(valid_json, *valid_path)"
   ],
   "outputs": [],
   "metadata": {}
  }
 ],
 "metadata": {
  "orig_nbformat": 4,
  "kernelspec": {
   "name": "python3",
   "display_name": "Python 3.7.11 64-bit ('detection': conda)"
  },
  "language_info": {
   "name": "python",
   "version": "3.7.11",
   "mimetype": "text/x-python",
   "codemirror_mode": {
    "name": "ipython",
    "version": 3
   },
   "pygments_lexer": "ipython3",
   "nbconvert_exporter": "python",
   "file_extension": ".py"
  },
  "interpreter": {
   "hash": "29b0cbc8c2bc4924fb253dd9334aba0cc9ad3225fd824ea55dea16089b664698"
  }
 },
 "nbformat": 4,
 "nbformat_minor": 2
}