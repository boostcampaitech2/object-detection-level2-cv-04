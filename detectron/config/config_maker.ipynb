{
 "cells": [
  {
   "cell_type": "code",
   "execution_count": 1,
   "metadata": {},
   "outputs": [],
   "source": [
    "# Warning! 기존 config파일과 차이가 있을수도 있습니다.\n",
    "\n",
    "import configparser"
   ]
  },
  {
   "cell_type": "code",
   "execution_count": 20,
   "metadata": {},
   "outputs": [],
   "source": [
    "## config 새로만들기\n",
    "\n",
    "config = configparser.ConfigParser()\n",
    "\n",
    "config['path'] = {}\n",
    "config['path']['train_json'] = 'dataset/train.json'\n",
    "config['path']['test_json'] = 'dataset/test.json'\n",
    "config['path']['image_root'] = \"dataset/\"\n",
    "config['path']['output_dir'] = \"output\"\n",
    "config['path']['output_eval_dir'] = \"output\"\n",
    "\n",
    "config['name'] = {}\n",
    "config['name']['train_dataset'] = 'coco_trash_train'\n",
    "config['name']['test_dataset'] = 'coco_trash_test'\n",
    "config['name']['modelzoo_config'] = 'COCO-Detection/faster_rcnn_R_101_FPN_3x.yaml'\n",
    "config['name']['custom_model'] = \"test1\"\n",
    "config['name']['mapper'] = \"base_mapper\"\n",
    "config['name']['trainer'] = 'base_trainer'\n",
    "\n",
    "classes = [\"General trash\", \"Paper\", \"Paper pack\", \"Metal\", \"Glass\", \"Plastic\", \"Styrofoam\", \"Plastic bag\", \"Battery\", \"Clothing\"]\n",
    "config['general'] = {}\n",
    "config['general']['classes'] = \"  \".join(classes)\n",
    "config['general']['num_workers'] = \"4\"\n",
    "config['general']['roi_num_classes'] = str(len(classes))\n",
    "\n",
    "config['hyperparam'] = {}\n",
    "config['hyperparam']['seed'] = \"42\"\n",
    "config['hyperparam']['base_lr'] = \"0.001\"\n",
    "config['hyperparam']['ims_per_batch'] = \"4\"\n",
    "config['hyperparam']['max_iter'] = \"15000\"\n",
    "config['hyperparam']['steps'] = \"(8000,12000)\"\n",
    "config['hyperparam']['gamma'] = \"0.005\"\n",
    "config['hyperparam']['checkpoint_period'] = \"3000\"\n",
    "config['hyperparam']['test_eval_period'] = \"3000\"\n",
    "config['hyperparam']['roi_batch'] = \"128\"\n",
    "\n",
    "config['option'] = {}\n",
    "config['option']['resume'] = \"False\"\n"
   ]
  },
  {
   "cell_type": "code",
   "execution_count": 21,
   "metadata": {},
   "outputs": [],
   "source": [
    "## config 저장\n",
    "\n",
    "with open('config.ini', 'w', encoding='utf-8') as configfile:\n",
    "    config.write(configfile)\n"
   ]
  },
  {
   "cell_type": "code",
   "execution_count": 18,
   "metadata": {},
   "outputs": [
    {
     "data": {
      "text/plain": [
       "['config.ini']"
      ]
     },
     "execution_count": 18,
     "metadata": {},
     "output_type": "execute_result"
    }
   ],
   "source": [
    "## config 불러오기\n",
    "\n",
    "config = configparser.ConfigParser()\n",
    "config.read('config.ini', encoding='utf-8') "
   ]
  },
  {
   "cell_type": "code",
   "execution_count": 19,
   "metadata": {},
   "outputs": [
    {
     "name": "stdout",
     "output_type": "stream",
     "text": [
      "path\n",
      "   train_json : dataset/train.json\n",
      "   test_json : dataset/test.json\n",
      "   image_root : dataset/\n",
      "   output_dir : output\n",
      "   output_eval_dir : output\n",
      "name\n",
      "   train_dataset : coco_trash_train\n",
      "   test_dataset : coco_trash_test\n",
      "   modelzoo_config : COCO-Detection/faster_rcnn_R_101_FPN_3x.yaml\n",
      "   custom_model : test1\n",
      "   mapper : base_mapper\n",
      "   trainer : base_trainer\n",
      "general\n",
      "   classes : General trash  Paper  Paper pack  Metal  Glass  Plastic  Styrofoam  Plastic bag  Battery  Clothing\n",
      "   num_workers : 4\n",
      "   roi_num_classes : 10\n",
      "hyperparam\n",
      "   seed : 42\n",
      "   base_lr : 0.001\n",
      "   ims_per_batch : 4\n",
      "   max_iter : 15000\n",
      "   steps : (8000,12000)\n",
      "   gamma : 0.005\n",
      "   checkpoint_period : 3000\n",
      "   test_eval_period : 3000\n",
      "   roi_batch : 128\n",
      "option\n",
      "   resume : False\n"
     ]
    }
   ],
   "source": [
    "## section 확인\n",
    "\n",
    "for section in config.sections():\n",
    "\tprint(section)\n",
    "\ti = iter(config[section])\n",
    "\twhile i:\n",
    "\t\ttry:\n",
    "\t\t\tkey = next(i)\n",
    "\t\t\tvalue = config[section][key]\n",
    "\t\t\tprint(\"  \",key,\":\", value)\n",
    "\t\texcept StopIteration:\n",
    "\t\t\tbreak"
   ]
  }
 ],
 "metadata": {
  "interpreter": {
   "hash": "98b0a9b7b4eaaa670588a142fd0a9b87eaafe866f1db4228be72b4211d12040f"
  },
  "kernelspec": {
   "display_name": "Python 3.8.5 64-bit ('base': conda)",
   "name": "python3"
  },
  "language_info": {
   "codemirror_mode": {
    "name": "ipython",
    "version": 3
   },
   "file_extension": ".py",
   "mimetype": "text/x-python",
   "name": "python",
   "nbconvert_exporter": "python",
   "pygments_lexer": "ipython3",
   "version": "3.8.5"
  },
  "orig_nbformat": 4
 },
 "nbformat": 4,
 "nbformat_minor": 2
}
