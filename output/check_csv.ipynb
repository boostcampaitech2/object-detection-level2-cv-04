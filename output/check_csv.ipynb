{
 "cells": [
  {
   "cell_type": "code",
   "execution_count": null,
   "metadata": {},
   "outputs": [],
   "source": [
    "import pandas as pd\n",
    "from PIL import Image, ImageDraw, ImageFont\n",
    "import os\n",
    "import random"
   ]
  },
  {
   "cell_type": "code",
   "execution_count": null,
   "metadata": {},
   "outputs": [],
   "source": [
    "#Custom!! output/framework/exp_name\n",
    "NAME = \"framework/exp_name\""
   ]
  },
  {
   "cell_type": "code",
   "execution_count": null,
   "metadata": {},
   "outputs": [],
   "source": [
    "classes = [\"General trash\",\"Paper\",\"Paper pack\",\"Metal\",\"Glass\",\"Plastic\",\"Styrofoam\",\"Plastic bag\",\"Battery\",\"Clothing\"]\n",
    "path = os.path.join(NAME, \"submission_exp.csv\")\n",
    "df = pd.read_csv(path)\n",
    "print(df)"
   ]
  },
  {
   "cell_type": "code",
   "execution_count": null,
   "metadata": {},
   "outputs": [],
   "source": [
    "def getImage(imageNum):\n",
    "\t\n",
    "\tpredict, imagePath = df.iloc[imageNum]\n",
    "\n",
    "\tobjectList = getObjectFromPredict(predict)\n",
    "\timage = readImage(imagePath)\n",
    "\tdrawnImage = drawObjectInImage(image, objectList)\n",
    "\treturn drawnImage\n",
    "\t\n",
    "def getObjectFromPredict(predict):\n",
    "\tpredictList = predict.split()\n",
    "\n",
    "\tobjectList = []\n",
    "\tfor i in range(0,len(predictList),6):\n",
    "\t\timageDict = {}\n",
    "\t\timageDict[\"class\"] = classes[int(predictList[i])]\n",
    "\t\timageDict[\"confidence\"] = predictList[i+1]\n",
    "\t\timageDict[\"x1\"] = float(predictList[i+2])\n",
    "\t\timageDict[\"y1\"] = float(predictList[i+3])\n",
    "\t\timageDict[\"x2\"] = float(predictList[i+4])\n",
    "\t\timageDict[\"y2\"] = float(predictList[i+5])\n",
    "\t\tobjectList.append(imageDict)\n",
    "\t\n",
    "\treturn objectList\n",
    "\n",
    "def readImage(imagePath):\n",
    "\treturn Image.open(os.path.join(\"../dataset\",imagePath))\n",
    "\n",
    "def drawObjectInImage(image, objectList):\n",
    "\tdraw = ImageDraw.Draw(image)\n",
    "\n",
    "\tfor obj in objectList:\n",
    "\t\tx1, y1, x2, y2 = obj[\"x1\"], obj[\"y1\"], obj[\"x2\"], obj[\"y2\"]\n",
    "\t\tdraw.rectangle(((x1,y1),(x2,y2)),width=3 ,outline=(random.randint(0,255),random.randint(0,255),random.randint(0,255)))\n",
    "\n",
    "\t\timageFont = ImageFont.load_default()\n",
    "\t\ttext = obj[\"class\"] + \"  \" + obj[\"confidence\"]\n",
    "\t\ttext_width, text_height = imageFont.getsize(text)\n",
    "\t\tdraw.rectangle(((x1, y1), (x1 + text_width, y1 + text_height)), fill=(0, 0, 0))\n",
    "\t\tdraw.text((x1, y1), text, font=imageFont, fill=(255, 255, 255))\n",
    "\n",
    "\treturn image"
   ]
  },
  {
   "cell_type": "code",
   "execution_count": null,
   "metadata": {},
   "outputs": [],
   "source": [
    "# get image 0 ~ 4871\n",
    "getImage(0)"
   ]
  }
 ],
 "metadata": {
  "interpreter": {
   "hash": "d4d1e4263499bec80672ea0156c357c1ee493ec2b1c70f0acce89fc37c4a6abe"
  },
  "kernelspec": {
   "display_name": "Python 3.8.5 64-bit ('base': conda)",
   "name": "python3"
  },
  "language_info": {
   "codemirror_mode": {
    "name": "ipython",
    "version": 3
   },
   "file_extension": ".py",
   "mimetype": "text/x-python",
   "name": "python",
   "nbconvert_exporter": "python",
   "pygments_lexer": "ipython3",
   "version": "3.8.5"
  },
  "orig_nbformat": 4
 },
 "nbformat": 4,
 "nbformat_minor": 2
}
