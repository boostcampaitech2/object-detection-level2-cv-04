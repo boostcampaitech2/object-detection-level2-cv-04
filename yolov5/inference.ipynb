{
 "cells": [
  {
   "cell_type": "code",
   "execution_count": 4,
   "metadata": {},
   "outputs": [],
   "source": [
    "import cv2\n",
    "import torch\n",
    "import json\n",
    "import pandas as pd\n",
    "from PIL import Image\n",
    "from tqdm import tqdm"
   ]
  },
  {
   "cell_type": "code",
   "execution_count": null,
   "metadata": {},
   "outputs": [],
   "source": [
    "import torch\n",
    "# exp_name 변경해서 돌리면 됩니다\n",
    "exp_name = 'exp'\n",
    "model = torch.hub.load('./utils', 'custom', path= f'../output/yolov5/{exp_name}/weights/best.pt', source='local') \n",
    "model.conf = 0.001  # confidence threshold (0-1)\n",
    "model.iou = 0.6  # NMS IoU threshold (0-1)\n",
    "\n",
    "prediction_string = ['']  * 4871 \n",
    "image_id = [f'test/{i:04}.jpg' for i in range(4871)]\n",
    "for i in tqdm(range(4871)):\n",
    "    img = Image.open(f'../dataset/test/{i:04}.jpg')\n",
    "\n",
    "    results = model(img, size=1024, augment=True) # augment로 TTA on/off 가능합니다. \n",
    "    for bbox in results.pandas().xyxy[0].values:\n",
    "        xmin, ymin, xmax, ymax, confidence, clss, name = bbox\n",
    "        prediction_string[i] += f'{clss} {confidence} {xmin} {ymin} {xmax} {ymax} '\n"
   ]
  },
  {
   "cell_type": "code",
   "execution_count": null,
   "metadata": {},
   "outputs": [],
   "source": [
    "raw_data ={\n",
    "    'PredictionString' : prediction_string,\n",
    "    'image_id' : image_id\n",
    "}\n",
    "dataframe = pd.DataFrame(raw_data)\n",
    "\n",
    "# output/yolov5/exp_name에 저장됩니다.\n",
    "dataframe.to_csv(f'../output/yolov5/{exp_name}/submission_{exp_name}.csv', sep=',', na_rep='NaN', index=None)"
   ]
  }
 ],
 "metadata": {
  "interpreter": {
   "hash": "b94c6de4bce9a87a354a5fa9998691adc0532adddb9d4140f5ba941d00b01fae"
  },
  "kernelspec": {
   "display_name": "Python 3.7.11 64-bit ('detection': conda)",
   "name": "python3"
  },
  "language_info": {
   "codemirror_mode": {
    "name": "ipython",
    "version": 3
   },
   "file_extension": ".py",
   "mimetype": "text/x-python",
   "name": "python",
   "nbconvert_exporter": "python",
   "pygments_lexer": "ipython3",
   "version": "3.7.11"
  },
  "orig_nbformat": 4
 },
 "nbformat": 4,
 "nbformat_minor": 2
}
