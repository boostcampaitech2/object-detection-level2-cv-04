{
 "cells": [
  {
   "cell_type": "code",
   "execution_count": 28,
   "source": [
    "import configparser"
   ],
   "outputs": [],
   "metadata": {}
  },
  {
   "cell_type": "code",
   "execution_count": 33,
   "source": [
    "## config 새로만들기\n",
    "\n",
    "config = configparser.ConfigParser()\n",
    "\n",
    "config['path'] = {}\n",
    "config['path']['train_json'] = '../train.json'\n",
    "config['path']['train_image'] = '../train'\n",
    "config['path']['test_json'] = '../test.json'\n",
    "config['path']['test_image'] = '../test'\n"
   ],
   "outputs": [],
   "metadata": {}
  },
  {
   "cell_type": "code",
   "execution_count": 34,
   "source": [
    "## config 저장\n",
    "\n",
    "with open('config.ini', 'w', encoding='utf-8') as configfile:\n",
    "    config.write(configfile)\n"
   ],
   "outputs": [],
   "metadata": {}
  },
  {
   "cell_type": "code",
   "execution_count": 35,
   "source": [
    "## config 불러오기\n",
    "\n",
    "config = configparser.ConfigParser()\n",
    "config.read('config.ini', encoding='utf-8') "
   ],
   "outputs": [
    {
     "output_type": "execute_result",
     "data": {
      "text/plain": [
       "['config.ini']"
      ]
     },
     "metadata": {},
     "execution_count": 35
    }
   ],
   "metadata": {}
  },
  {
   "cell_type": "code",
   "execution_count": 36,
   "source": [
    "## section 확인\n",
    "\n",
    "for section in config.sections():\n",
    "\tprint(section)\n",
    "\ti = iter(config[section])\n",
    "\twhile i:\n",
    "\t\ttry:\n",
    "\t\t\tkey = next(i)\n",
    "\t\t\tvalue = config[section][key]\n",
    "\t\t\tprint(\"  \",key,\":\", value)\n",
    "\t\texcept StopIteration:\n",
    "\t\t\tbreak"
   ],
   "outputs": [
    {
     "output_type": "stream",
     "name": "stdout",
     "text": [
      "path\n",
      "   train_json : ../train.json\n",
      "   train_image : ../train\n",
      "   test_json : ../test.json\n",
      "   test_image : ../test\n"
     ]
    }
   ],
   "metadata": {}
  }
 ],
 "metadata": {
  "orig_nbformat": 4,
  "language_info": {
   "name": "python",
   "version": "3.8.5",
   "mimetype": "text/x-python",
   "codemirror_mode": {
    "name": "ipython",
    "version": 3
   },
   "pygments_lexer": "ipython3",
   "nbconvert_exporter": "python",
   "file_extension": ".py"
  },
  "kernelspec": {
   "name": "python3",
   "display_name": "Python 3.8.5 64-bit ('base': conda)"
  },
  "interpreter": {
   "hash": "98b0a9b7b4eaaa670588a142fd0a9b87eaafe866f1db4228be72b4211d12040f"
  }
 },
 "nbformat": 4,
 "nbformat_minor": 2
}