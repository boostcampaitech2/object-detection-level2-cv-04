{
 "cells": [
  {
   "cell_type": "code",
   "execution_count": 1,
   "metadata": {},
   "outputs": [],
   "source": [
    "import os\n",
    "import json\n",
    "import numpy as np\n",
    "import pandas as pd\n",
    "import matplotlib as mpl\n",
    "import matplotlib.pyplot as plt\n",
    "import seaborn as sns"
   ]
  },
  {
   "cell_type": "code",
   "execution_count": 2,
   "metadata": {},
   "outputs": [],
   "source": [
    "train_json = \"/opt/ml/detection/object-detection-level2-cv-04/dataset/train_modify.json\""
   ]
  },
  {
   "cell_type": "code",
   "execution_count": 3,
   "metadata": {},
   "outputs": [],
   "source": [
    "with open(train_json, \"r\", encoding=\"utf8\") as outfile:\n",
    "    json_data = json.load(outfile)\n",
    "\n",
    "images = json_data[\"images\"]\n",
    "categories = json_data[\"categories\"]\n",
    "annotations = json_data[\"annotations\"]"
   ]
  },
  {
   "cell_type": "code",
   "execution_count": 4,
   "metadata": {},
   "outputs": [],
   "source": [
    "class_dict = {\n",
    "    0 : \"General trash\", 1 : \"Paper\", 2 : \"Paper pack\" , \n",
    "    3 : \"Metal\", 4 : \"Glass\", 5 : \"Plastic\", 6 : \"Styrofoam\", \n",
    "    7 : \"Plastic bag\", 8 : \"Battery\", 9 : \"Clothing\"\n",
    "    }"
   ]
  },
  {
   "cell_type": "code",
   "execution_count": 5,
   "metadata": {},
   "outputs": [],
   "source": [
    "image_id, class_id, x_min, y_min, w, h= [], [], [], [], [], []\n",
    "for annotation in annotations:\n",
    "    image_id.append(annotation['image_id'])\n",
    "    class_id.append(annotation['category_id'])\n",
    "    x_min.append(annotation['bbox'][0])\n",
    "    y_min.append(annotation['bbox'][1])\n",
    "    w.append(annotation['bbox'][2])\n",
    "    h.append(annotation['bbox'][3])"
   ]
  },
  {
   "cell_type": "code",
   "execution_count": 6,
   "metadata": {},
   "outputs": [],
   "source": [
    "raw_data = {\n",
    "    'image_id' : image_id,\n",
    "    'class_id' : class_id,\n",
    "    'x_min' : x_min,\n",
    "    'y_min' : y_min,\n",
    "    'w' : w,\n",
    "    'h' : h\n",
    "}"
   ]
  },
  {
   "cell_type": "code",
   "execution_count": 7,
   "metadata": {},
   "outputs": [],
   "source": [
    "dataframe = pd.DataFrame(raw_data)"
   ]
  },
  {
   "cell_type": "code",
   "execution_count": 8,
   "metadata": {},
   "outputs": [],
   "source": [
    "dataframe.to_csv('train_modify.csv', sep=',', na_rep='NaN')"
   ]
  },
  {
   "cell_type": "markdown",
   "metadata": {},
   "source": [
    "image_id / class_name / class_id / rad_id / x_min / y_min / w / h"
   ]
  }
 ],
 "metadata": {
  "interpreter": {
   "hash": "b94c6de4bce9a87a354a5fa9998691adc0532adddb9d4140f5ba941d00b01fae"
  },
  "kernelspec": {
   "display_name": "Python 3.7.11 64-bit ('detection': conda)",
   "name": "python3"
  },
  "language_info": {
   "codemirror_mode": {
    "name": "ipython",
    "version": 3
   },
   "file_extension": ".py",
   "mimetype": "text/x-python",
   "name": "python",
   "nbconvert_exporter": "python",
   "pygments_lexer": "ipython3",
   "version": "3.7.11"
  },
  "orig_nbformat": 4
 },
 "nbformat": 4,
 "nbformat_minor": 2
}
