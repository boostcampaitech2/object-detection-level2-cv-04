{
 "cells": [
  {
   "cell_type": "code",
   "execution_count": 1,
   "source": [
    "import configparser"
   ],
   "outputs": [],
   "metadata": {}
  },
  {
   "cell_type": "code",
   "execution_count": 2,
   "source": [
    "## config 새로만들기\n",
    "\n",
    "config = configparser.ConfigParser()\n",
    "\n",
    "config['path'] = {}\n",
    "config['path']['train_json'] = 'dataset/train.json'\n",
    "config['path']['test_json'] = 'dataset/test.json'\n",
    "config['path']['image_root'] = \"dataset/\"\n",
    "config['path']['output_dir'] = \"./output\"\n",
    "\n",
    "config['name'] = {}\n",
    "config['name']['train_dataset'] = 'coco_trash_train'\n",
    "config['name']['test_dataset'] = 'coco_trash_test'\n",
    "config['name']['modelzoo_config'] = 'COCO-Detection/faster_rcnn_R_101_FPN_3x.yaml'\n",
    "\n",
    "classes = [\"General trash\", \"Paper\", \"Paper pack\", \"Metal\", \"Glass\", \"Plastic\", \"Styrofoam\", \"Plastic bag\", \"Battery\", \"Clothing\"]\n",
    "config['general'] = {}\n",
    "config['general']['classes'] = \" \".join(classes)\n",
    "config['general']['num_workers'] = \"4\"\n",
    "config['general']['roi_num_classes'] = str(len(classes))\n",
    "\n",
    "config['hyperparam'] = {}\n",
    "config['hyperparam']['seed'] = \"42\"\n",
    "config['hyperparam']['base_lr'] = \"0.001\"\n",
    "config['hyperparam']['ims_per_batch'] = \"4\"\n",
    "config['hyperparam']['max_iter'] = \"15000\"\n",
    "config['hyperparam']['steps'] = \"(8000,12000)\"\n",
    "config['hyperparam']['gamma'] = \"0.005\"\n",
    "config['hyperparam']['checkpoint_period'] = \"3000\"\n",
    "config['hyperparam']['test_eval_period'] = \"3000\"\n",
    "config['hyperparam']['roi_batch'] = \"128\"\n"
   ],
   "outputs": [],
   "metadata": {}
  },
  {
   "cell_type": "code",
   "execution_count": 3,
   "source": [
    "## config 저장\n",
    "\n",
    "with open('config.ini', 'w', encoding='utf-8') as configfile:\n",
    "    config.write(configfile)\n"
   ],
   "outputs": [],
   "metadata": {}
  },
  {
   "cell_type": "code",
   "execution_count": 4,
   "source": [
    "## config 불러오기\n",
    "\n",
    "config = configparser.ConfigParser()\n",
    "config.read('config.ini', encoding='utf-8') "
   ],
   "outputs": [
    {
     "output_type": "execute_result",
     "data": {
      "text/plain": [
       "['config.ini']"
      ]
     },
     "metadata": {},
     "execution_count": 4
    }
   ],
   "metadata": {}
  },
  {
   "cell_type": "code",
   "execution_count": 5,
   "source": [
    "## section 확인\n",
    "\n",
    "for section in config.sections():\n",
    "\tprint(section)\n",
    "\ti = iter(config[section])\n",
    "\twhile i:\n",
    "\t\ttry:\n",
    "\t\t\tkey = next(i)\n",
    "\t\t\tvalue = config[section][key]\n",
    "\t\t\tprint(\"  \",key,\":\", value)\n",
    "\t\texcept StopIteration:\n",
    "\t\t\tbreak"
   ],
   "outputs": [
    {
     "output_type": "stream",
     "name": "stdout",
     "text": [
      "path\n",
      "   train_json : dataset/train.json\n",
      "   test_json : dataset/test.json\n",
      "   image_root : dataset/\n",
      "   output_dir : ./output\n",
      "name\n",
      "   train_dataset : coco_trash_train\n",
      "   test_dataset : coco_trash_test\n",
      "   modelzoo_config : COCO-Detection/faster_rcnn_R_101_FPN_3x.yaml\n",
      "general\n",
      "   classes : General trash Paper Paper pack Metal Glass Plastic Styrofoam Plastic bag Battery Clothing\n",
      "   num_workers : 4\n",
      "   roi_num_classes : 10\n",
      "hyperparam\n",
      "   seed : 42\n",
      "   base_lr : 0.001\n",
      "   ims_per_batch : 4\n",
      "   max_iter : 15000\n",
      "   steps : (8000,12000)\n",
      "   gamma : 0.005\n",
      "   checkpoint_period : 3000\n",
      "   test_eval_period : 3000\n",
      "   roi_batch : 128\n"
     ]
    }
   ],
   "metadata": {}
  }
 ],
 "metadata": {
  "orig_nbformat": 4,
  "language_info": {
   "name": "python",
   "version": "3.8.5",
   "mimetype": "text/x-python",
   "codemirror_mode": {
    "name": "ipython",
    "version": 3
   },
   "pygments_lexer": "ipython3",
   "nbconvert_exporter": "python",
   "file_extension": ".py"
  },
  "kernelspec": {
   "name": "python3",
   "display_name": "Python 3.8.5 64-bit ('base': conda)"
  },
  "interpreter": {
   "hash": "98b0a9b7b4eaaa670588a142fd0a9b87eaafe866f1db4228be72b4211d12040f"
  }
 },
 "nbformat": 4,
 "nbformat_minor": 2
}