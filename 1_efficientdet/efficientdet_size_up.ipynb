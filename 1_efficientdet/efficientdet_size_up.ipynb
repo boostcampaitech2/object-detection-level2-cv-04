{
 "cells": [
  {
   "cell_type": "code",
   "execution_count": null,
   "id": "96927830-d628-4dbd-8174-73530d095852",
   "metadata": {},
   "outputs": [],
   "source": [
    "# efficientdet 512 사이즈 예측된 거 키우기 - 코드 내 이미 수정 반영되어있음\n",
    "# 이미 생성된 csv에 대해서 키워줄때 사용\n",
    "\n",
    "import pandas as pd\n",
    "import numpy as np\n",
    "import cv2\n",
    "import matplotlib.pyplot as plt\n",
    "import os\n",
    "\n",
    "# csv path\n",
    "csv_path = \"./efficientdet/submission_50.csv\" # efficient\n",
    "\n",
    "data = pd.read_csv(csv_path)\n",
    "data.head()\n",
    "\n",
    "datas = data.values.tolist()\n",
    "\n",
    "# 살펴볼 이미지 idx\n",
    "idx = 0\n",
    "dataset_folder = \"./dataset\"\n",
    "\n",
    "total = []\n",
    "\n",
    "for predict in datas:\n",
    "    bbox, image = predict\n",
    "    string_ = ''\n",
    "    try:\n",
    "        bbox = bbox.strip()\n",
    "        if bbox != '' or bbox != None:\n",
    "            bbox = bbox.split(' ')\n",
    "            bbox_count = len(bbox) // 6\n",
    "            for i in range(bbox_count):\n",
    "                if bbox[i*6] == '':\n",
    "                    break\n",
    "                class_ = int(bbox[i*6])\n",
    "                class_name = class_dict[class_]\n",
    "                class_color = color_dict[class_]\n",
    "                confidence = bbox[i*6+1]\n",
    "                left, top, right, bottom = float(bbox[i*6+2])*2, float(bbox[i*6+3])*2, float(bbox[i*6+4])*2, float(bbox[i*6+5])*2 # efficientdet\n",
    "                string_ += \"{} {} {} {} {} {} \".format(class_, confidence, left, top, right, bottom)\n",
    "    except:\n",
    "        pass\n",
    "    total.append([string_, image])\n",
    "columns = ['PredictionString', 'image_id']\n",
    "df = pd.DataFrame(total, columns = columns)\n",
    "df.to_csv(\"submission_renew.csv\", index=False)"
   ]
  },
  {
   "cell_type": "code",
   "execution_count": null,
   "id": "18a2581f-2d38-48c0-995c-78d8388a0c06",
   "metadata": {},
   "outputs": [],
   "source": []
  }
 ],
 "metadata": {
  "kernelspec": {
   "display_name": "detection",
   "language": "python",
   "name": "detection"
  },
  "language_info": {
   "codemirror_mode": {
    "name": "ipython",
    "version": 3
   },
   "file_extension": ".py",
   "mimetype": "text/x-python",
   "name": "python",
   "nbconvert_exporter": "python",
   "pygments_lexer": "ipython3",
   "version": "3.7.11"
  }
 },
 "nbformat": 4,
 "nbformat_minor": 5
}
